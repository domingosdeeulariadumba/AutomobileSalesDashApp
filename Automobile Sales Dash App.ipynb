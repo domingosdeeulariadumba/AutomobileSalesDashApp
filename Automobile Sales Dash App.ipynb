{
 "cells": [
  {
   "cell_type": "markdown",
   "id": "483ecaaf",
   "metadata": {},
   "source": [
    "# Automobile Sales Statistics Dashboard"
   ]
  },
  {
   "cell_type": "markdown",
   "id": "b60f2ca1",
   "metadata": {},
   "source": [
    "### Objective"
   ]
  },
  {
   "cell_type": "markdown",
   "id": "9e826eab",
   "metadata": {},
   "source": [
    "The objective of this project is to build an app consisted in two dashboards about the automobile statistics report: one for the recession perido, and another for the global report. \n",
    "\n",
    "Both options considers four illustrations. The former includes a line chart for the Automobile sales fluctuate over Recession Period, a bar plot illusttrating the average number of vehicles sold by vehicle type, a Pie chart for total expenditure share by vehicle type, and a bar chart againg for the effect of unemployment rate on vehicle type and sales; whereas the latter displays two line plots (one for Yearly Automobile sales, and another for the total automobile sales per month), a bar plot to illustrate the average number of vehicles sold during the given year, and a pie chart representing the total advertisement expenditure."
   ]
  },
  {
   "cell_type": "markdown",
   "id": "636f5fb2",
   "metadata": {},
   "source": [
    "### Building the app"
   ]
  },
  {
   "cell_type": "code",
   "execution_count": 71,
   "id": "dfe12d05",
   "metadata": {},
   "outputs": [],
   "source": [
    "# Importing Libraries\n",
    "\n",
    "import dash\n",
    "from dash import dcc\n",
    "from dash import html\n",
    "from dash.dependencies import Input, Output\n",
    "import pandas as pd\n",
    "import plotly.express as px"
   ]
  },
  {
   "cell_type": "code",
   "execution_count": 72,
   "id": "f50880d6",
   "metadata": {},
   "outputs": [],
   "source": [
    "# Loading the flat file\n",
    "\n",
    "data = pd.read_csv('https://cf-courses-data.s3.us.cloud-object-storage.appdomain.cloud/IBMDeveloperSkillsNetwork-DV0101EN-SkillsNetwork/Data%20Files/historical_automobile_sales.csv')"
   ]
  },
  {
   "cell_type": "code",
   "execution_count": 73,
   "id": "e60fa906",
   "metadata": {},
   "outputs": [],
   "source": [
    "# Initializing the Dash app\n",
    "app = dash.Dash()"
   ]
  },
  {
   "cell_type": "code",
   "execution_count": 74,
   "id": "361502d6",
   "metadata": {},
   "outputs": [],
   "source": [
    "# Setting the title of the dashboard\n",
    "app.title = 'Automobile Statistics Dashboard'"
   ]
  },
  {
   "cell_type": "code",
   "execution_count": 75,
   "id": "b79c0daa",
   "metadata": {},
   "outputs": [],
   "source": [
    "# Creating the dropdown menu options\n",
    "dropdown_options = [\n",
    "    {'label': 'Yearly statistics', 'value': 'Yearly Statistics'},\n",
    "    {'label': 'Recession Period Statistics', 'value': 'Recession Period Statistics'}\n",
    "]"
   ]
  },
  {
   "cell_type": "code",
   "execution_count": 76,
   "id": "fed9d1e9",
   "metadata": {},
   "outputs": [],
   "source": [
    "# List of years \n",
    "year_list = list(data['Year'].unique())"
   ]
  },
  {
   "cell_type": "code",
   "execution_count": 77,
   "id": "763d7d54",
   "metadata": {},
   "outputs": [],
   "source": [
    "# Creating the layout of the app\n",
    "app.layout = html.Div([\n",
    "    # Adding a title to the dashboard\n",
    "    html.H1('Automobile Sales Statistics Dashboard', style={'textAlign': 'center', 'font-size': 30}),\n",
    "    html.Div([# Adding two dropdown menus\n",
    "        html.Label(\"Select Statistics:\"),\n",
    "        dcc.Dropdown(\n",
    "            id='dropdown-statistics', \n",
    "            options=dropdown_options,\n",
    "            placeholder='Select a report type',\n",
    "            style={'textAlign': 'center'})\n",
    "        \n",
    "    ]),\n",
    "    html.Div(dcc.Dropdown(\n",
    "        id='select-year',\n",
    "        options=[{'label': i, 'value': i} for i in year_list],\n",
    "        value=year_list[0],\n",
    "        placeholder='Select a year'\n",
    "    )),\n",
    "    html.Div([# Adding a division for output display\n",
    "        html.Div(id='output-container', className='chart-grid', style={'width': '100%'}),\n",
    "    ])\n",
    "])"
   ]
  },
  {
   "cell_type": "code",
   "execution_count": 78,
   "id": "266742a7",
   "metadata": {},
   "outputs": [],
   "source": [
    "# Creating Callbacks\n",
    "# Defining the callback function to update the input container based on the selected statistics\n",
    "@app.callback(\n",
    "    Output(component_id='select-year', component_property= 'disabled'),\n",
    "    Input(component_id='dropdown-statistics', component_property='value')\n",
    ")\n",
    "def update_input_container(selected_statistics):\n",
    "    return selected_statistics != 'Yearly Statistics'"
   ]
  },
  {
   "cell_type": "code",
   "execution_count": 79,
   "id": "3ca4651a",
   "metadata": {
    "scrolled": true
   },
   "outputs": [],
   "source": [
    "# Callback for plotting\n",
    "@app.callback(\n",
    "    Output(component_id='output-container', component_property='children'),\n",
    "    [Input(component_id='select-year', component_property='value'),\n",
    "     Input(component_id='dropdown-statistics', component_property='value')]\n",
    ")\n",
    "def update_output_container(input_year, selected_statistics):\n",
    "    if selected_statistics == 'Recession Period Statistics':\n",
    "        # Filtering the data for recession periods\n",
    "        recession_data = data[data['Recession'] == 1]\n",
    "\n",
    "        # Plot 1: Automobile sales fluctuate over Recession Period (year wise)\n",
    "        R_chart1 = dcc.Graph(\n",
    "            figure=px.line(recession_data, x='Year', y='Automobile_Sales',\n",
    "                           title=\"Average Automobile Sales fluctuation over Recession Period\")\n",
    "        )\n",
    "\n",
    "        # Plot 2: Calculate the average number of vehicles sold by vehicle type\n",
    "        average_sales = recession_data.groupby('Vehicle_Type')['Automobile_Sales'].mean().reset_index()\n",
    "        R_chart2 = dcc.Graph(\n",
    "            figure=px.bar(average_sales, x='Vehicle_Type', y='Automobile_Sales',\n",
    "                          title=\"Average Automobile Sales by Vehicle Type over Recession Period\")\n",
    "        )\n",
    "\n",
    "        # Plot 3: Pie chart for total expenditure share by vehicle type during recessions\n",
    "        exp_rec = recession_data.groupby('Vehicle_Type')['Advertising_Expenditure'].sum().reset_index()\n",
    "        R_chart3 = dcc.Graph(\n",
    "            figure=px.pie(exp_rec, values='Advertising_Expenditure', names='Vehicle_Type',\n",
    "                          title=\"Total Expenditure by Vehicle Type\")\n",
    "        )\n",
    "\n",
    "        # Plot 4: Bar chart for the effect of unemployment rate on vehicle type and sales\n",
    "        unemployment_rec = recession_data.groupby(['unemployment_rate', 'Vehicle_Type'])['Automobile_Sales'].sum().reset_index()\n",
    "        R_chart4 = dcc.Graph(\n",
    "            figure=px.bar(unemployment_rec, x='unemployment_rate', y='Automobile_Sales', color='Vehicle_Type',\n",
    "                          title=\"Effect of Unemployment Rate on Vehicle Type and Sales\")\n",
    "        )\n",
    "\n",
    "        return [\n",
    "            html.Div(className='chart-item', children=[html.Div(children=R_chart1), html.Div(children=R_chart2)]),\n",
    "            html.Div(className='chart-item', children=[html.Div(children=R_chart3), html.Div(children=R_chart4)])\n",
    "        ]\n",
    "\n",
    "    elif selected_statistics == 'Yearly Statistics':\n",
    "        yearly_data = data[data['Year'] == input_year]\n",
    "\n",
    "        # Plot 1: Yearly Automobile sales using line chart for the whole period.\n",
    "        yas= data.groupby('Year')['Automobile_Sales'].mean().reset_index()\n",
    "        Y_chart1 = dcc.Graph(\n",
    "            figure=px.line(yas, x='Year', y='Automobile_Sales',\n",
    "                           title='Average Vehicles Sold by Vehicle Type in the year {}'.format(input_year))\n",
    "        )\n",
    "\n",
    "        # Plot 2: Total Monthly Automobile sales using line chart.\n",
    "        mas= data.groupby('Month')['Automobile_Sales'].mean().reset_index()\n",
    "        Y_chart2 = dcc.Graph(\n",
    "            figure=px.line(mas, x='Month', y='Automobile_Sales',\n",
    "                           title=\"Monthly Average Automobile Sales fluctuation\")\n",
    "        )\n",
    "\n",
    "        # Plot 3: Bar chart for average number of vehicles sold during the given year\n",
    "        avr_vdata = yearly_data.groupby('Vehicle_Type')['Automobile_Sales'].mean().reset_index()\n",
    "        Y_chart3 = dcc.Graph(\n",
    "            figure=px.bar(avr_vdata, x='Vehicle_Type', y='Automobile_Sales',\n",
    "                          title='Average Vehicles Sold by Vehicle Type in the year {}'.format(input_year))\n",
    "        )\n",
    "\n",
    "        # Plot 4: Total Advertisement Expenditure for each vehicle using pie chart\n",
    "        exp_data = yearly_data.groupby('Vehicle_Type')['Advertising_Expenditure'].sum().reset_index()\n",
    "        Y_chart4 = dcc.Graph(\n",
    "            figure=px.pie(exp_data, values='Advertising_Expenditure', names='Vehicle_Type',\n",
    "                          title=\"Total Expenditure by Vehicle Type\")\n",
    "        )\n",
    "\n",
    "        return [\n",
    "            html.Div(className='chart-item', children=[html.Div(children=Y_chart1), html.Div(children=Y_chart2)]),\n",
    "            html.Div(className='chart-item', children=[html.Div(children=Y_chart3), html.Div(children=Y_chart4)])\n",
    "        ]\n",
    "\n",
    "    else:\n",
    "        return None"
   ]
  },
  {
   "cell_type": "markdown",
   "id": "061873cb",
   "metadata": {},
   "source": [
    "### Launching the app"
   ]
  },
  {
   "cell_type": "code",
   "execution_count": 80,
   "id": "b013af84",
   "metadata": {},
   "outputs": [
    {
     "data": {
      "text/html": [
       "\n",
       "        <iframe\n",
       "            width=\"100%\"\n",
       "            height=\"650\"\n",
       "            src=\"http://127.0.0.1:8050/\"\n",
       "            frameborder=\"0\"\n",
       "            allowfullscreen\n",
       "            \n",
       "        ></iframe>\n",
       "        "
      ],
      "text/plain": [
       "<IPython.lib.display.IFrame at 0x2f209c12850>"
      ]
     },
     "metadata": {},
     "output_type": "display_data"
    }
   ],
   "source": [
    "# Run the Dash app\n",
    "if __name__ == '__main__':\n",
    "    app.run_server(debug=True)"
   ]
  },
  {
   "cell_type": "markdown",
   "id": "279e3e5d",
   "metadata": {},
   "source": [
    "   \n",
    "                  ________  ________   _______   ______ \n",
    "                 /_  __/ / / / ____/  / ____/ | / / __ \\\n",
    "                  / / / /_/ / __/    / __/ /  |/ / / / /\n",
    "                 / / / __  / /___   / /___/ /|  / /_/ / \n",
    "                /_/ /_/ /_/_____/  /_____/_/ |_/_____/  "
   ]
  }
 ],
 "metadata": {
  "kernelspec": {
   "display_name": "Python 3 (ipykernel)",
   "language": "python",
   "name": "python3"
  },
  "language_info": {
   "codemirror_mode": {
    "name": "ipython",
    "version": 3
   },
   "file_extension": ".py",
   "mimetype": "text/x-python",
   "name": "python",
   "nbconvert_exporter": "python",
   "pygments_lexer": "ipython3",
   "version": "3.11.5"
  }
 },
 "nbformat": 4,
 "nbformat_minor": 5
}
